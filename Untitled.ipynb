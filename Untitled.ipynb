{
 "cells": [
  {
   "cell_type": "code",
   "execution_count": 1,
   "metadata": {
    "collapsed": false
   },
   "outputs": [],
   "source": [
    "from stream import *\n",
    "\n",
    "b = bolostream(targetfs='.',write_period=1,payload_size=16,duration=3)\n",
    "g = gcpstream(targetfs='.',write_period=1,payload_size=16,duration=10)\n",
    "\n",
    "m = stream_manager()\n",
    "m.add(b,'b')\n",
    "m.add(g,'g')"
   ]
  },
  {
   "cell_type": "code",
   "execution_count": null,
   "metadata": {
    "collapsed": false
   },
   "outputs": [],
   "source": [
    "m.run('test.h5')"
   ]
  },
  {
   "cell_type": "code",
   "execution_count": 2,
   "metadata": {
    "collapsed": false,
    "scrolled": true
   },
   "outputs": [
    {
     "ename": "IOError",
     "evalue": "Unable to open file (Unable to open file: name = 'test.h5', errno = 2, error message = 'no such file or directory', flags = 0, o_flags = 0)",
     "output_type": "error",
     "traceback": [
      "\u001b[1;31m---------------------------------------------------------------------------\u001b[0m",
      "\u001b[1;31mIOError\u001b[0m                                   Traceback (most recent call last)",
      "\u001b[1;32m<ipython-input-2-76abdf34eead>\u001b[0m in \u001b[0;36m<module>\u001b[1;34m()\u001b[0m\n\u001b[0;32m      1\u001b[0m \u001b[1;32mimport\u001b[0m \u001b[0mh5py\u001b[0m\u001b[1;33m\u001b[0m\u001b[0m\n\u001b[0;32m      2\u001b[0m \u001b[1;33m\u001b[0m\u001b[0m\n\u001b[1;32m----> 3\u001b[1;33m \u001b[1;32mwith\u001b[0m \u001b[0mh5py\u001b[0m\u001b[1;33m.\u001b[0m\u001b[0mFile\u001b[0m\u001b[1;33m(\u001b[0m\u001b[1;34m'test.h5'\u001b[0m\u001b[1;33m,\u001b[0m\u001b[1;34m'r'\u001b[0m\u001b[1;33m)\u001b[0m \u001b[1;32mas\u001b[0m \u001b[0mf\u001b[0m\u001b[1;33m:\u001b[0m\u001b[1;33m\u001b[0m\u001b[0m\n\u001b[0m\u001b[0;32m      4\u001b[0m     \u001b[1;32mprint\u001b[0m \u001b[0mf\u001b[0m\u001b[1;33m[\u001b[0m\u001b[1;34m'mem_usage'\u001b[0m\u001b[1;33m]\u001b[0m\u001b[1;33m\u001b[0m\u001b[0m\n",
      "\u001b[1;32mC:\\Anaconda\\lib\\site-packages\\h5py\\_hl\\files.pyc\u001b[0m in \u001b[0;36m__init__\u001b[1;34m(self, name, mode, driver, libver, userblock_size, swmr, **kwds)\u001b[0m\n\u001b[0;32m    258\u001b[0m \u001b[1;33m\u001b[0m\u001b[0m\n\u001b[0;32m    259\u001b[0m                 \u001b[0mfapl\u001b[0m \u001b[1;33m=\u001b[0m \u001b[0mmake_fapl\u001b[0m\u001b[1;33m(\u001b[0m\u001b[0mdriver\u001b[0m\u001b[1;33m,\u001b[0m \u001b[0mlibver\u001b[0m\u001b[1;33m,\u001b[0m \u001b[1;33m**\u001b[0m\u001b[0mkwds\u001b[0m\u001b[1;33m)\u001b[0m\u001b[1;33m\u001b[0m\u001b[0m\n\u001b[1;32m--> 260\u001b[1;33m                 \u001b[0mfid\u001b[0m \u001b[1;33m=\u001b[0m \u001b[0mmake_fid\u001b[0m\u001b[1;33m(\u001b[0m\u001b[0mname\u001b[0m\u001b[1;33m,\u001b[0m \u001b[0mmode\u001b[0m\u001b[1;33m,\u001b[0m \u001b[0muserblock_size\u001b[0m\u001b[1;33m,\u001b[0m \u001b[0mfapl\u001b[0m\u001b[1;33m,\u001b[0m \u001b[0mswmr\u001b[0m\u001b[1;33m=\u001b[0m\u001b[0mswmr\u001b[0m\u001b[1;33m)\u001b[0m\u001b[1;33m\u001b[0m\u001b[0m\n\u001b[0m\u001b[0;32m    261\u001b[0m \u001b[1;33m\u001b[0m\u001b[0m\n\u001b[0;32m    262\u001b[0m                 \u001b[1;32mif\u001b[0m \u001b[0mswmr_support\u001b[0m\u001b[1;33m:\u001b[0m\u001b[1;33m\u001b[0m\u001b[0m\n",
      "\u001b[1;32mC:\\Anaconda\\lib\\site-packages\\h5py\\_hl\\files.pyc\u001b[0m in \u001b[0;36mmake_fid\u001b[1;34m(name, mode, userblock_size, fapl, fcpl, swmr)\u001b[0m\n\u001b[0;32m     87\u001b[0m         \u001b[1;32mif\u001b[0m \u001b[0mswmr\u001b[0m \u001b[1;32mand\u001b[0m \u001b[0mswmr_support\u001b[0m\u001b[1;33m:\u001b[0m\u001b[1;33m\u001b[0m\u001b[0m\n\u001b[0;32m     88\u001b[0m             \u001b[0mflags\u001b[0m \u001b[1;33m|=\u001b[0m \u001b[0mh5f\u001b[0m\u001b[1;33m.\u001b[0m\u001b[0mACC_SWMR_READ\u001b[0m\u001b[1;33m\u001b[0m\u001b[0m\n\u001b[1;32m---> 89\u001b[1;33m         \u001b[0mfid\u001b[0m \u001b[1;33m=\u001b[0m \u001b[0mh5f\u001b[0m\u001b[1;33m.\u001b[0m\u001b[0mopen\u001b[0m\u001b[1;33m(\u001b[0m\u001b[0mname\u001b[0m\u001b[1;33m,\u001b[0m \u001b[0mflags\u001b[0m\u001b[1;33m,\u001b[0m \u001b[0mfapl\u001b[0m\u001b[1;33m=\u001b[0m\u001b[0mfapl\u001b[0m\u001b[1;33m)\u001b[0m\u001b[1;33m\u001b[0m\u001b[0m\n\u001b[0m\u001b[0;32m     90\u001b[0m     \u001b[1;32melif\u001b[0m \u001b[0mmode\u001b[0m \u001b[1;33m==\u001b[0m \u001b[1;34m'r+'\u001b[0m\u001b[1;33m:\u001b[0m\u001b[1;33m\u001b[0m\u001b[0m\n\u001b[0;32m     91\u001b[0m         \u001b[0mfid\u001b[0m \u001b[1;33m=\u001b[0m \u001b[0mh5f\u001b[0m\u001b[1;33m.\u001b[0m\u001b[0mopen\u001b[0m\u001b[1;33m(\u001b[0m\u001b[0mname\u001b[0m\u001b[1;33m,\u001b[0m \u001b[0mh5f\u001b[0m\u001b[1;33m.\u001b[0m\u001b[0mACC_RDWR\u001b[0m\u001b[1;33m,\u001b[0m \u001b[0mfapl\u001b[0m\u001b[1;33m=\u001b[0m\u001b[0mfapl\u001b[0m\u001b[1;33m)\u001b[0m\u001b[1;33m\u001b[0m\u001b[0m\n",
      "\u001b[1;32mh5py\\_objects.pyx\u001b[0m in \u001b[0;36mh5py._objects.with_phil.wrapper (C:\\aroot\\work\\h5py\\_objects.c:2463)\u001b[1;34m()\u001b[0m\n",
      "\u001b[1;32mh5py\\_objects.pyx\u001b[0m in \u001b[0;36mh5py._objects.with_phil.wrapper (C:\\aroot\\work\\h5py\\_objects.c:2420)\u001b[1;34m()\u001b[0m\n",
      "\u001b[1;32mh5py\\h5f.pyx\u001b[0m in \u001b[0;36mh5py.h5f.open (C:\\aroot\\work\\h5py\\h5f.c:1797)\u001b[1;34m()\u001b[0m\n",
      "\u001b[1;31mIOError\u001b[0m: Unable to open file (Unable to open file: name = 'test.h5', errno = 2, error message = 'no such file or directory', flags = 0, o_flags = 0)"
     ]
    }
   ],
   "source": [
    "import h5py\n",
    "\n",
    "with h5py.File('test.h5','r') as f:\n",
    "    print f['mem_usage']"
   ]
  },
  {
   "cell_type": "code",
   "execution_count": 3,
   "metadata": {
    "collapsed": false,
    "scrolled": false
   },
   "outputs": [
    {
     "name": "stdout",
     "output_type": "stream",
     "text": [
      "------ bolostream.io_run ------\n",
      "['<*>', '']\n",
      "0\n",
      "------ bolostream.io_run ------\n",
      "\n",
      "['<*>', '<*>']\n",
      "\n",
      "------ bolostream.io_run ------\n",
      "['<*>', '<*>']\n",
      "1\n",
      "------ bolostream.io_run ------\n",
      "\n",
      "['<*>', '<*>']\n",
      "\n",
      "------ bolostream.io_run ------\n",
      "['<*><*>', '<*>']\n",
      "0\n",
      "------ bolostream.io_run ------\n",
      "\n"
     ]
    },
    {
     "name": "stderr",
     "output_type": "stream",
     "text": [
      "Exception in thread Thread-6:\n",
      "Traceback (most recent call last):\n",
      "  File \"C:\\Anaconda\\lib\\threading.py\", line 801, in __bootstrap_inner\n",
      "    self.run()\n",
      "  File \"C:\\Anaconda\\lib\\threading.py\", line 754, in run\n",
      "    self.__target(*self.__args, **self.__kwargs)\n",
      "  File \"stream.py\", line 257, in io_run\n",
      "    self.file.write(out)\n",
      "ValueError: I/O operation on closed file\n",
      "\n"
     ]
    }
   ],
   "source": [
    "b.payload = '<*>'\n",
    "b.run()"
   ]
  },
  {
   "cell_type": "code",
   "execution_count": 3,
   "metadata": {
    "collapsed": false
   },
   "outputs": [
    {
     "data": {
      "text/plain": [
       "16"
      ]
     },
     "execution_count": 3,
     "metadata": {},
     "output_type": "execute_result"
    }
   ],
   "source": [
    "len(b.results)"
   ]
  },
  {
   "cell_type": "code",
   "execution_count": 4,
   "metadata": {
    "collapsed": false
   },
   "outputs": [
    {
     "data": {
      "text/plain": [
       "array([[  1.47393324e+09,   1.47393324e+09,   1.60000000e+01],\n",
       "       [  1.47393324e+09,   1.47393324e+09,   1.60000000e+01],\n",
       "       [  1.47393324e+09,   1.47393324e+09,   1.60000000e+01],\n",
       "       [  1.47393324e+09,   1.47393324e+09,   1.60000000e+01],\n",
       "       [  1.47393324e+09,   1.47393324e+09,   1.60000000e+01],\n",
       "       [  1.47393324e+09,   1.47393324e+09,   3.20000000e+01],\n",
       "       [  1.47393324e+09,   1.47393324e+09,   1.60000000e+01],\n",
       "       [  1.47393324e+09,   1.47393324e+09,   3.20000000e+01],\n",
       "       [  1.47393324e+09,   1.47393324e+09,   3.20000000e+01],\n",
       "       [  1.47393324e+09,   1.47393324e+09,   3.20000000e+01],\n",
       "       [  1.47393324e+09,   1.47393324e+09,   3.20000000e+01],\n",
       "       [  1.47393324e+09,   1.47393324e+09,   3.20000000e+01],\n",
       "       [  1.47393324e+09,   1.47393324e+09,   4.80000000e+01],\n",
       "       [  1.47393324e+09,   1.47393324e+09,   3.20000000e+01],\n",
       "       [  1.47393324e+09,   1.47393324e+09,   4.80000000e+01],\n",
       "       [  1.47393324e+09,   1.47393324e+09,   3.20000000e+01],\n",
       "       [  1.47393324e+09,   1.47393324e+09,   6.40000000e+01],\n",
       "       [  1.47393325e+09,   1.47393325e+09,   3.20000000e+01],\n",
       "       [  1.47393325e+09,   1.47393325e+09,   6.40000000e+01],\n",
       "       [  1.47393325e+09,   1.47393325e+09,   3.20000000e+01],\n",
       "       [  1.47393325e+09,   1.47393325e+09,   8.00000000e+01],\n",
       "       [  1.47393325e+09,   1.47393325e+09,   3.20000000e+01],\n",
       "       [  1.47393325e+09,   1.47393325e+09,   8.00000000e+01],\n",
       "       [  1.47393325e+09,   1.47393325e+09,   3.20000000e+01],\n",
       "       [  1.47393325e+09,   1.47393325e+09,   9.60000000e+01],\n",
       "       [  1.47393325e+09,   1.47393325e+09,   3.20000000e+01],\n",
       "       [  1.47393325e+09,   1.47393325e+09,   9.60000000e+01],\n",
       "       [  1.47393325e+09,   1.47393325e+09,   3.20000000e+01],\n",
       "       [  1.47393325e+09,   1.47393325e+09,   1.12000000e+02],\n",
       "       [  1.47393325e+09,   1.47393325e+09,   3.20000000e+01],\n",
       "       [  1.47393325e+09,   1.47393325e+09,   1.12000000e+02],\n",
       "       [  1.47393325e+09,   1.47393325e+09,   3.20000000e+01],\n",
       "       [  1.47393325e+09,   1.47393325e+09,   1.28000000e+02],\n",
       "       [  1.47393325e+09,   1.47393325e+09,   3.20000000e+01],\n",
       "       [  1.47393325e+09,   1.47393325e+09,   1.28000000e+02],\n",
       "       [  1.47393325e+09,   1.47393325e+09,   3.20000000e+01]])"
      ]
     },
     "execution_count": 4,
     "metadata": {},
     "output_type": "execute_result"
    }
   ],
   "source": [
    "b.results"
   ]
  },
  {
   "cell_type": "code",
   "execution_count": 3,
   "metadata": {
    "collapsed": false
   },
   "outputs": [
    {
     "name": "stdout",
     "output_type": "stream",
     "text": [
      "asd 3\n"
     ]
    }
   ],
   "source": [
    "a='asd'\n",
    "print a, len(a)"
   ]
  },
  {
   "cell_type": "code",
   "execution_count": null,
   "metadata": {
    "collapsed": true
   },
   "outputs": [],
   "source": []
  }
 ],
 "metadata": {
  "kernelspec": {
   "display_name": "Python 2",
   "language": "python",
   "name": "python2"
  },
  "language_info": {
   "codemirror_mode": {
    "name": "ipython",
    "version": 2
   },
   "file_extension": ".py",
   "mimetype": "text/x-python",
   "name": "python",
   "nbconvert_exporter": "python",
   "pygments_lexer": "ipython2",
   "version": "2.7.10"
  }
 },
 "nbformat": 4,
 "nbformat_minor": 0
}
